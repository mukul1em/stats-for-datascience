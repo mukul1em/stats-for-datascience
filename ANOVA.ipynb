{
 "cells": [
  {
   "cell_type": "code",
   "execution_count": 1,
   "metadata": {},
   "outputs": [],
   "source": [
    "from scipy import stats"
   ]
  },
  {
   "cell_type": "code",
   "execution_count": 2,
   "metadata": {},
   "outputs": [],
   "source": [
    "lemon_res_time=[36,32,28,23,27,23]\n",
    "coffee_re_time=[23,26,28,20,18,21]\n",
    "redb_res_time=[18,12,10,12,11,13]\n"
   ]
  },
  {
   "cell_type": "markdown",
   "metadata": {},
   "source": [
    "### H0,Hnull=Lemon,coffee,Redbull response times are same,means drinks have no effect on res time\n",
    "### Ha=lemon,coffee,Redbull response times are same,means drinks have  effect on res time"
   ]
  },
  {
   "cell_type": "code",
   "execution_count": 3,
   "metadata": {},
   "outputs": [
    {
     "data": {
      "text/plain": [
       "F_onewayResult(statistic=23.012422360248461, pvalue=2.6877218398008629e-05)"
      ]
     },
     "execution_count": 3,
     "metadata": {},
     "output_type": "execute_result"
    }
   ],
   "source": [
    "stats.f_oneway(lemon_res_time,coffee_re_time,redb_res_time)"
   ]
  },
  {
   "cell_type": "markdown",
   "metadata": {},
   "source": [
    "### p = 0.0000268, 0.0026% , we can confidently reject null hypothesis , accept Ha\n",
    "statistics = F value"
   ]
  },
  {
   "cell_type": "code",
   "execution_count": 4,
   "metadata": {},
   "outputs": [],
   "source": [
    "#different data\n",
    "#2nd exp\n",
    "lemon_res_time=[36,12,46,10,15,20]\n",
    "lemon_res_time=[33,10,38,12,13,19]\n",
    "redb_res_time=[31,9,39,13,10,15]\n"
   ]
  },
  {
   "cell_type": "code",
   "execution_count": 5,
   "metadata": {},
   "outputs": [
    {
     "data": {
      "text/plain": [
       "F_onewayResult(statistic=0.13921647586722657, pvalue=0.87115081639557324)"
      ]
     },
     "execution_count": 5,
     "metadata": {},
     "output_type": "execute_result"
    }
   ],
   "source": [
    "stats.f_oneway(lemon_res_time,lemon_res_time,redb_res_time)"
   ]
  },
  {
   "cell_type": "markdown",
   "metadata": {},
   "source": [
    "### p=88% , we cannot reject Null hypothesis,MEans ,drinks have no effect\n",
    "### f value is also very low"
   ]
  },
  {
   "cell_type": "code",
   "execution_count": null,
   "metadata": {},
   "outputs": [],
   "source": []
  }
 ],
 "metadata": {
  "kernelspec": {
   "display_name": "Python 3",
   "language": "python",
   "name": "python3"
  },
  "language_info": {
   "codemirror_mode": {
    "name": "ipython",
    "version": 3
   },
   "file_extension": ".py",
   "mimetype": "text/x-python",
   "name": "python",
   "nbconvert_exporter": "python",
   "pygments_lexer": "ipython3",
   "version": "3.6.2"
  }
 },
 "nbformat": 4,
 "nbformat_minor": 2
}
